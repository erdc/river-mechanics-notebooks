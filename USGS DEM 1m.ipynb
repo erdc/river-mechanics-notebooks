{
 "cells": [
  {
   "cell_type": "markdown",
   "metadata": {},
   "source": [
    "# Objective\n",
    "\n",
    "Download and plot 1m DEM data from the USGS 3DEP program's 1m DEM database."
   ]
  },
  {
   "cell_type": "code",
   "execution_count": 1,
   "metadata": {},
   "outputs": [],
   "source": [
    "import requests\n",
    "from zipfile import ZipFile\n",
    "import io\n",
    "from io import BytesIO\n",
    "from osgeo import gdal\n",
    "urlbase = 'https://prd-tnm.s3.amazonaws.com/StagedProducts/Elevation/1m/Projects/MS_Coastal_Z15_2015/IMG/'\n",
    "zipfilename = 'USGS_NED_one_meter_x75y350_MS_Coastal_Z15_2015_IMG_2019.zip'\n",
    "download = requests.get(url=urlbase+zipfilename)"
   ]
  },
  {
   "cell_type": "code",
   "execution_count": 2,
   "metadata": {},
   "outputs": [
    {
     "name": "stdout",
     "output_type": "stream",
     "text": [
      "\n",
      "Getting DEM from:\n",
      " USGS_NED_one_meter_x75y350_MS_Coastal_Z15_2015_IMG_2019.img\n",
      "\n",
      "Getting DEM metadata from:\n",
      " USGS_NED_one_meter_x75y350_MS_Coastal_Z15_2015_IMG_2019_meta.xml\n"
     ]
    }
   ],
   "source": [
    "zipfile = ZipFile(BytesIO(download._content))\n",
    "img_filename = None\n",
    "xml_filename = None\n",
    "for f in zipfile.filelist:\n",
    "    if '.img' in f.filename:\n",
    "        img_filename = f.filename\n",
    "    if 'meta.xml' in f.filename:\n",
    "        xml_filename = f.filename\n",
    "print(\"\\nGetting DEM from:\\n {0}\".format(img_filename))\n",
    "print(\"\\nGetting DEM metadata from:\\n {0}\".format(xml_filename))"
   ]
  },
  {
   "cell_type": "code",
   "execution_count": 3,
   "metadata": {},
   "outputs": [],
   "source": [
    "import xml.etree.ElementTree as ET\n",
    "f_xml = zipfile.open(xml_filename).read()\n",
    "root = ET.fromstring(f_xml.decode())\n",
    "for element in root.iter('*'):\n",
    "    if element.tag == 'rowcount':\n",
    "        nrows=int(element.text)\n",
    "    if element.tag == 'colcount':\n",
    "        ncols=int(element.text)\n",
    "#print(nrows,ncols)"
   ]
  },
  {
   "cell_type": "code",
   "execution_count": 4,
   "metadata": {},
   "outputs": [],
   "source": [
    "# GDAL does not use python exceptions by default\n",
    "gdal.UseExceptions()\n",
    "img_file_path = zipfile.extract(img_filename)"
   ]
  },
  {
   "cell_type": "code",
   "execution_count": 5,
   "metadata": {},
   "outputs": [],
   "source": [
    "# GDAL does not use python exceptions by default\n",
    "gdal.UseExceptions()\n",
    "geo = gdal.Open(img_file_path)\n",
    "drv = geo.GetDriver()\n",
    "topo = geo.ReadAsArray()"
   ]
  },
  {
   "cell_type": "code",
   "execution_count": 6,
   "metadata": {},
   "outputs": [
    {
     "data": {
      "application/vnd.jupyter.widget-view+json": {
       "model_id": "783085db820848e4ab53bc1103e198a3",
       "version_major": 2,
       "version_minor": 0
      },
      "text/plain": [
       "Canvas(toolbar=Toolbar(toolitems=[('Home', 'Reset original view', 'home', 'home'), ('Back', 'Back to previous …"
      ]
     },
     "metadata": {},
     "output_type": "display_data"
    }
   ],
   "source": [
    "%matplotlib ipympl\n",
    "from matplotlib import pyplot as plt\n",
    "fig = plt.figure(figsize=(7,7))\n",
    "from matplotlib import cm\n",
    "cutout = topo[(topo.shape[0]*3)//10:((topo.shape[0]*3)//10+topo.shape[0]//3),\n",
    "              topo.shape[1]//2:(topo.shape[1]//2 + topo.shape[1]//3)]\n",
    "plt.imshow(cutout, \n",
    "           cmap=cm.BrBG_r)\n",
    "cbar = plt.colorbar(shrink=0.75)\n",
    "cbar.set_label('meters')"
   ]
  },
  {
   "cell_type": "code",
   "execution_count": 7,
   "metadata": {},
   "outputs": [
    {
     "data": {
      "application/vnd.jupyter.widget-view+json": {
       "model_id": "beb7a25f671e4795a132093390ed362c",
       "version_major": 2,
       "version_minor": 0
      },
      "text/plain": [
       "Canvas(toolbar=Toolbar(toolitems=[('Home', 'Reset original view', 'home', 'home'), ('Back', 'Back to previous …"
      ]
     },
     "metadata": {},
     "output_type": "display_data"
    }
   ],
   "source": [
    "from mpl_toolkits.mplot3d import Axes3D\n",
    "import numpy as np\n",
    "fig = plt.figure(figsize=(8,8))\n",
    "ax = fig.gca(projection='3d')\n",
    "X = np.arange(0.0, float(cutout.shape[0]), 1.0)\n",
    "Y = np.arange(0.0, float(cutout.shape[1]), 1.0)[::-1]\n",
    "XX, YY = np.meshgrid(X, Y)\n",
    "# Plot the surface.\n",
    "surf = ax.plot_surface(XX, YY, cutout, cmap=cm.BrBG_r,\n",
    "                       linewidth=0, antialiased=False,\n",
    "                      rcount=200,ccount=200)"
   ]
  }
 ],
 "metadata": {
  "kernelspec": {
   "display_name": "Python 3",
   "language": "python",
   "name": "python3"
  },
  "language_info": {
   "codemirror_mode": {
    "name": "ipython",
    "version": 3
   },
   "file_extension": ".py",
   "mimetype": "text/x-python",
   "name": "python",
   "nbconvert_exporter": "python",
   "pygments_lexer": "ipython3",
   "version": "3.8.1"
  },
  "toc": {
   "base_numbering": 1,
   "nav_menu": {},
   "number_sections": false,
   "sideBar": false,
   "skip_h1_title": false,
   "title_cell": "Table of Contents",
   "title_sidebar": "Contents",
   "toc_cell": false,
   "toc_position": {},
   "toc_section_display": false,
   "toc_window_display": false
  }
 },
 "nbformat": 4,
 "nbformat_minor": 4
}
