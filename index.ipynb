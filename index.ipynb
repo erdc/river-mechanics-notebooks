{
 "cells": [
  {
   "cell_type": "markdown",
   "metadata": {},
   "source": [
    "<img src=\"stream.jpg\" width=\"300\">\n",
    "\n",
    "# River Mechanics Demonstration Notebooks\n",
    "- [Regression Curves for Total Suspended Sediment and Sand](Regression%20Curves%20for%20Total%20Suspended%20Sediment%20and%20Sand.ipynb)\n",
    "- [Stage and Flow Duration Curves](Stage%20and%20Flow%20Duration%20Curves.ipynb)\n",
    "- [Sediment Concentration from USGS Station](Sediment%20Concentration%20from%20USGS%20Station.ipynb)\n",
    "- [Plot Station Data from Map](Plot%20Station%20Data%20from%20Map.ipynb)\n",
    "- [USGS DEM 1m](USGS%20DEM%201m.ipynb)\n",
    "- [USGS 3DEP LIDAR](USGS%203DEP%20LIDAR.ipynb)\n",
    "- [USGS WMS Services](USGS%20WMS%20Services.ipynb)"
   ]
  }
 ],
 "metadata": {
  "kernelspec": {
   "display_name": "Python 3",
   "language": "python",
   "name": "python3"
  },
  "language_info": {
   "codemirror_mode": {
    "name": "ipython",
    "version": 3
   },
   "file_extension": ".py",
   "mimetype": "text/x-python",
   "name": "python",
   "nbconvert_exporter": "python",
   "pygments_lexer": "ipython3",
   "version": "3.8.1"
  },
  "toc": {
   "base_numbering": 1,
   "nav_menu": {},
   "number_sections": false,
   "sideBar": false,
   "skip_h1_title": false,
   "title_cell": "Table of Contents",
   "title_sidebar": "Contents",
   "toc_cell": false,
   "toc_position": {},
   "toc_section_display": false,
   "toc_window_display": false
  }
 },
 "nbformat": 4,
 "nbformat_minor": 4
}
