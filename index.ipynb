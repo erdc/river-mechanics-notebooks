{
 "cells": [
  {
   "cell_type": "markdown",
   "metadata": {},
   "source": [
    "<img src=\"stream.jpg\" width=\"300\">\n",
    "\n",
    "# Sediment Mechanics Demonstration Notebooks\n",
    "- [Sediment Concentration from USGS Station](Sediment%20Concentration%20from%20USGS%20Station.ipynb)\n",
    "- [Plot Station Data from Map](Plot%20Station%20Data%20from%20Map.ipynb)\n",
    "- [USGS DEM 1m](USGS%20DEM%201m.ipynb)\n",
    "- [USGS 3DEP LIDAR](USGS%203DEP%20LIDAR.ipynb)"
   ]
  }
 ],
 "metadata": {
  "kernelspec": {
   "display_name": "Python 3",
   "language": "python",
   "name": "python3"
  },
  "language_info": {
   "codemirror_mode": {
    "name": "ipython",
    "version": 3
   },
   "file_extension": ".py",
   "mimetype": "text/x-python",
   "name": "python",
   "nbconvert_exporter": "python",
   "pygments_lexer": "ipython3",
   "version": "3.8.1"
  }
 },
 "nbformat": 4,
 "nbformat_minor": 4
}
