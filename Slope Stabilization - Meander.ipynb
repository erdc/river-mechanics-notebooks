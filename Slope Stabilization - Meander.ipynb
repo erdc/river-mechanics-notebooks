{
 "cells": [
  {
   "cell_type": "markdown",
   "metadata": {},
   "source": [
    "# Full Bank Stabilization Estimate\n",
    "\n",
    "I located the steepest bank slope at cross section 4:\n",
    "\n",
    "![Representative](files/bend2.png)\n",
    "Zooming in to slope\n",
    "![closeup](files/closeup2.png)\n",
    "Estimate the slope:"
   ]
  },
  {
   "cell_type": "code",
   "execution_count": 1,
   "metadata": {},
   "outputs": [
    {
     "name": "stdout",
     "output_type": "stream",
     "text": [
      "Bank slope: -0.5043478260869569\n"
     ]
    }
   ],
   "source": [
    "top=(2.5,40.6)\n",
    "bottom=(14.0,34.8)\n",
    "slope = (top[1]-bottom[1])/(top[0]-bottom[0])\n",
    "print(\"Bank slope:\",slope)"
   ]
  },
  {
   "cell_type": "markdown",
   "metadata": {},
   "source": [
    "The channel bottom is relatively flat. I'll assume it is completely flat and use a target slope of 1:2 to find the outer edge of the re-enforced bank toe. This calculation yields:"
   ]
  },
  {
   "cell_type": "code",
   "execution_count": 2,
   "metadata": {},
   "outputs": [
    {
     "name": "stdout",
     "output_type": "stream",
     "text": [
      "New bank toe:  14.100000000000009\n"
     ]
    }
   ],
   "source": [
    "target_slope = 1/2\n",
    "new_bottom_x = (top[1]-bottom[1])/target_slope + top[0]\n",
    "print(\"New bank toe: \",new_bottom_x)"
   ]
  },
  {
   "cell_type": "markdown",
   "metadata": {},
   "source": [
    "Plot the proposed new bank on an estimate of the current channel profile:"
   ]
  },
  {
   "cell_type": "code",
   "execution_count": 6,
   "metadata": {},
   "outputs": [
    {
     "data": {
      "image/png": "[encoded data removed]",
      "text/plain": [
       "<Figure size 1584x288 with 1 Axes>"
      ]
     },
     "metadata": {
      "needs_background": "light"
     },
     "output_type": "display_data"
    }
   ],
   "source": [
    "%matplotlib inline\n",
    "from matplotlib import pyplot as plt\n",
    "thickness = 0.6096# 2ft\n",
    "fig = plt.figure(figsize=(22,4))\n",
    "plt.plot([0.0,top[0],bottom[0],bottom[0]+2*thickness],[top[1],top[1],bottom[1],bottom[1]],'g',[thickness+top[0],thickness+new_bottom_x],[top[1],bottom[1]],'r')\n",
    "plt.plot([top[0],thickness+top[0]],[top[1],top[1]],'r')\n",
    "#plt.plot([0.0,top[0],bottom[0],27.5,30,55],[top[1],top[1],bottom[1],36.1,36.7,38.25],'g',[top[0],new_bottom_x],[top[1],bottom[1]],'r')\n",
    "#plt.plot([bottom[0],bottom[0]+10.67/2,bottom[0]+10.67],[bottom[1],bottom[1]+2.67,bottom[1]],'b')\n",
    "#plt.plot([bottom[0]-10.67/2.,bottom[0],bottom[0]+10.67/2.],[bottom[1],bottom[1]+2.67,bottom[1]],'b-.')\n",
    "plt.legend(['existing profile','re-enforced bank'])\n",
    "plt.axis('equal')\n",
    "plt.title('Riprap');\n",
    "plt.savefig('riprap.png')"
   ]
  },
  {
   "cell_type": "markdown",
   "metadata": {},
   "source": [
    "Calculate the fill volume per foot along the bank:"
   ]
  },
  {
   "cell_type": "code",
   "execution_count": 4,
   "metadata": {},
   "outputs": [
    {
     "name": "stdout",
     "output_type": "stream",
     "text": [
      "Rate of fill:  400.1556904167418 cubic feet per foot\n"
     ]
    }
   ],
   "source": [
    "import math\n",
    "ft_per_m=3.2808399\n",
    "face_length=math.sqrt((top[0]-bottom[0])**2 + (top[1]-bottom[1])**2)\n",
    "face_diag = math.sqrt((top[0]-(bottom[0]+thickness))**2+(top[1]-bottom[1])**2)\n",
    "S = (face_diag+face_length+thickness)/2.0\n",
    "par_area = 2.0*math.sqrt(S*(S-thickness)*(S-face_length)*(S-face_diag))#area of parallelogram for blanket thickness\n",
    "volume_per_ft = (abs(0.5*(top[1]-bottom[1])*(top[0]-new_bottom_x))+par_area)* (ft_per_m**2)\n",
    "print(\"Rate of fill: \", volume_per_ft, \"cubic feet per foot\")"
   ]
  },
  {
   "cell_type": "markdown",
   "metadata": {},
   "source": [
    "# Total volume of riprap"
   ]
  },
  {
   "cell_type": "code",
   "execution_count": 5,
   "metadata": {},
   "outputs": [
    {
     "name": "stdout",
     "output_type": "stream",
     "text": [
      "Fill volume:  22230.87168981899 cubic yards\n",
      "Cost at $50/cubic yard: $1111543.58\n"
     ]
    }
   ],
   "source": [
    "volume = 1500*volume_per_ft/(3**3)\n",
    "print(\"Fill volume: \",volume, \"cubic yards\")\n",
    "print(\"Cost at $50/cubic yard: ${0:.2f}\".format(volume*50.0))"
   ]
  },
  {
   "cell_type": "code",
   "execution_count": null,
   "metadata": {},
   "outputs": [],
   "source": []
  }
 ],
 "metadata": {
  "kernelspec": {
   "display_name": "Python 3",
   "language": "python",
   "name": "python3"
  },
  "language_info": {
   "codemirror_mode": {
    "name": "ipython",
    "version": 3
   },
   "file_extension": ".py",
   "mimetype": "text/x-python",
   "name": "python",
   "nbconvert_exporter": "python",
   "pygments_lexer": "ipython3",
   "version": "3.8.1"
  },
  "toc": {
   "base_numbering": 1,
   "nav_menu": {},
   "number_sections": false,
   "sideBar": false,
   "skip_h1_title": false,
   "title_cell": "Table of Contents",
   "title_sidebar": "Contents",
   "toc_cell": false,
   "toc_position": {},
   "toc_section_display": false,
   "toc_window_display": false
  }
 },
 "nbformat": 4,
 "nbformat_minor": 4
}
