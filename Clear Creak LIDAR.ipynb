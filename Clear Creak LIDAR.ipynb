{
 "cells": [
  {
   "cell_type": "markdown",
   "metadata": {},
   "source": [
    "# Objective\n",
    "\n",
    "Plot LIDAR data sets from the USGS 3DEP program."
   ]
  },
  {
   "cell_type": "code",
   "execution_count": 1,
   "metadata": {},
   "outputs": [],
   "source": [
    "%matplotlib ipympl\n",
    "import laspy\n",
    "from matplotlib import pyplot as plt\n",
    "import numpy as np\n",
    "from laspy.file import File\n",
    "import requests\n",
    "#url = 'https://www.dropbox.com/s/9u6xtg0kdwo9d1u/USGS_LPC_MS_Coastal_Z15_2015_15RYQ545935_LAS_2017.las?raw=1'\n",
    "#f = requests.get(url)"
   ]
  },
  {
   "cell_type": "code",
   "execution_count": 7,
   "metadata": {},
   "outputs": [],
   "source": [
    "#with open(\"tmp.las\",'wb') as f_las:\n",
    "#    f_las.write(f._content)\n",
    "#!ls *.tif\n",
    "from osgeo import gdal\n",
    "import sys\n",
    "\n",
    "# this allows GDAL to throw Python Exceptions\n",
    "src_ds = gdal.Open( \"swms16clearcreek.tif\" )\n",
    "data = src_ds.ReadAsArray()"
   ]
  },
  {
   "cell_type": "code",
   "execution_count": 12,
   "metadata": {},
   "outputs": [
    {
     "data": {
      "application/vnd.jupyter.widget-view+json": {
       "model_id": "a21ed122b4714c7bbdbfeebc7df93fa1",
       "version_major": 2,
       "version_minor": 0
      },
      "text/plain": [
       "Canvas(toolbar=Toolbar(toolitems=[('Home', 'Reset original view', 'home', 'home'), ('Back', 'Back to previous …"
      ]
     },
     "metadata": {},
     "output_type": "display_data"
    },
    {
     "data": {
      "text/plain": [
       "<matplotlib.image.AxesImage at 0x7f0e000f3ca0>"
      ]
     },
     "execution_count": 12,
     "metadata": {},
     "output_type": "execute_result"
    }
   ],
   "source": [
    "data.shape\n",
    "fig =plt.figure()\n",
    "plt.imshow(data)\n",
    "#box_x = inFile.header.min[0] + (inFile.header.max[0]-inFile.header.min[0])/10.0\n",
    "#box_y = inFile.header.min[1] + (inFile.header.max[1]-inFile.header.min[1])/10.0"
   ]
  },
  {
   "cell_type": "code",
   "execution_count": 4,
   "metadata": {},
   "outputs": [],
   "source": [
    "X_in_box = np.logical_and((inFile.header.min[0] < inFile.x),\n",
    "                          (box_x > inFile.x))\n",
    "Y_in_box = np.logical_and((inFile.header.min[1] < inFile.y),\n",
    "                          (box_y > inFile.y))\n",
    "indices = np.where(np.logical_and(X_in_box, Y_in_box))"
   ]
  },
  {
   "cell_type": "code",
   "execution_count": 5,
   "metadata": {},
   "outputs": [
    {
     "data": {
      "application/vnd.jupyter.widget-view+json": {
       "model_id": "38b250013b844b6292f678bf8c2513d6",
       "version_major": 2,
       "version_minor": 0
      },
      "text/plain": [
       "Canvas(toolbar=Toolbar(toolitems=[('Home', 'Reset original view', 'home', 'home'), ('Back', 'Back to previous …"
      ]
     },
     "metadata": {},
     "output_type": "display_data"
    }
   ],
   "source": [
    "plt.figure(figsize=(7,7))\n",
    "s2d = plt.scatter(inFile.x[indices[0]],inFile.y[indices[0]],s=1.0,c=inFile.intensity[indices[0]])"
   ]
  },
  {
   "cell_type": "code",
   "execution_count": 6,
   "metadata": {},
   "outputs": [
    {
     "data": {
      "application/vnd.jupyter.widget-view+json": {
       "model_id": "d0d34e425327481da6e17bbb8f556113",
       "version_major": 2,
       "version_minor": 0
      },
      "text/plain": [
       "Canvas(toolbar=Toolbar(toolitems=[('Home', 'Reset original view', 'home', 'home'), ('Back', 'Back to previous …"
      ]
     },
     "metadata": {},
     "output_type": "display_data"
    }
   ],
   "source": [
    "from mpl_toolkits.mplot3d import Axes3D\n",
    "fig = plt.figure(figsize=(8,8))\n",
    "ax = fig.add_subplot(111, projection='3d')\n",
    "s3d=ax.scatter(inFile.x[indices[0]],\n",
    "           inFile.y[indices[0]], \n",
    "           inFile.z[indices[0]],\n",
    "           c=inFile.z[indices[0]], s=1.0)"
   ]
  }
 ],
 "metadata": {
  "kernelspec": {
   "display_name": "Python 3",
   "language": "python",
   "name": "python3"
  },
  "language_info": {
   "codemirror_mode": {
    "name": "ipython",
    "version": 3
   },
   "file_extension": ".py",
   "mimetype": "text/x-python",
   "name": "python",
   "nbconvert_exporter": "python",
   "pygments_lexer": "ipython3",
   "version": "3.8.1"
  },
  "toc": {
   "base_numbering": 1,
   "nav_menu": {},
   "number_sections": false,
   "sideBar": false,
   "skip_h1_title": false,
   "title_cell": "Table of Contents",
   "title_sidebar": "Contents",
   "toc_cell": false,
   "toc_position": {},
   "toc_section_display": false,
   "toc_window_display": false
  }
 },
 "nbformat": 4,
 "nbformat_minor": 4
}
