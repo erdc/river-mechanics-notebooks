{
 "cells": [
  {
   "cell_type": "code",
   "execution_count": 1,
   "metadata": {},
   "outputs": [],
   "source": [
    "from owslib.wms import WebMapService"
   ]
  },
  {
   "cell_type": "code",
   "execution_count": 2,
   "metadata": {},
   "outputs": [
    {
     "data": {
      "application/vnd.jupyter.widget-view+json": {
       "model_id": "42a67969811b48afae8d781e274915e1",
       "version_major": 2,
       "version_minor": 0
      },
      "text/plain": [
       "Dropdown(description='URL', index=4, options=('https://index.nationalmap.gov/arcgis/services/3DEPElevationInde…"
      ]
     },
     "metadata": {},
     "output_type": "display_data"
    }
   ],
   "source": [
    "import ipywidgets as widgets\n",
    "urlwidget = widgets.Dropdown(options=['https://index.nationalmap.gov/arcgis/services/3DEPElevationIndex/MapServer/WMSServer?request=GetCapabilities&service=WMS',\n",
    "                          'https://gis.blm.gov/arcgis/services/Cadastral/BLM_Natl_PLSS_CadNSDI/MapServer/WMSServer?request=GetCapabilities&service=WMS',\n",
    "                          'https://www.mrlc.gov/geoserver/NLCD_Impervious/wms?SERVICE=WMS&REQUEST=GetCapabilities',\n",
    "                          'https://carto.nationalmap.gov/arcgis/services/govunits/MapServer/WMSServer?request=GetCapabilities&service=WMS',\n",
    "                          'https://elevation.nationalmap.gov/arcgis/services/3DEPElevation/ImageServer/WMSServer?request=GetCapabilities&service=WMS',\n",
    "                          'https://nowcoast.noaa.gov/arcgis/services/nowcoast/radar_meteo_imagery_nexrad_time/MapServer/WMSServer?request=GetCapabilities&service=WMS'],\n",
    "                 value='https://elevation.nationalmap.gov/arcgis/services/3DEPElevation/ImageServer/WMSServer?request=GetCapabilities&service=WMS',\n",
    "                 description='URL',\n",
    "                 disabled=False)\n",
    "urlwidget"
   ]
  },
  {
   "cell_type": "code",
   "execution_count": 3,
   "metadata": {},
   "outputs": [],
   "source": [
    "wms = WebMapService(urlwidget.value,\n",
    "    version='1.3.0'\n",
    ")"
   ]
  },
  {
   "cell_type": "code",
   "execution_count": 4,
   "metadata": {},
   "outputs": [
    {
     "data": {
      "text/plain": [
       "'https://elevation.nationalmap.gov:443/arcgis/services/3DEPElevation/ImageServer/WMSServer'"
      ]
     },
     "execution_count": 4,
     "metadata": {},
     "output_type": "execute_result"
    }
   ],
   "source": [
    "# Get URL\n",
    "getmap_method = wms.getOperationByName('GetMap').methods\n",
    "url = getmap_method[0]['url']\n",
    "url"
   ]
  },
  {
   "cell_type": "code",
   "execution_count": 5,
   "metadata": {},
   "outputs": [
    {
     "data": {
      "text/plain": [
       "['image/tiff',\n",
       " 'image/png',\n",
       " 'image/png24',\n",
       " 'image/png32',\n",
       " 'image/bmp',\n",
       " 'image/gif',\n",
       " 'image/jpeg',\n",
       " 'image/svg',\n",
       " 'image/bil']"
      ]
     },
     "execution_count": 5,
     "metadata": {},
     "output_type": "execute_result"
    }
   ],
   "source": [
    "# Display available formats\n",
    "wms.getOperationByName('GetMap').formatOptions"
   ]
  },
  {
   "cell_type": "code",
   "execution_count": 6,
   "metadata": {},
   "outputs": [
    {
     "data": {
      "application/vnd.jupyter.widget-view+json": {
       "model_id": "47a7f598fdd44814a426e32fb9764464",
       "version_major": 2,
       "version_minor": 0
      },
      "text/plain": [
       "Dropdown(index=12, options=('0', '3DEPElevation:Hillshade Gray', '3DEPElevation:Aspect Degrees', '3DEPElevatio…"
      ]
     },
     "metadata": {},
     "output_type": "display_data"
    }
   ],
   "source": [
    "# Display available layers\n",
    "layerswidget = widgets.Dropdown(options=list(wms.contents),\n",
    "                                value=list(wms.contents)[-1])\n",
    "layerswidget"
   ]
  },
  {
   "cell_type": "code",
   "execution_count": 7,
   "metadata": {},
   "outputs": [
    {
     "data": {
      "text/plain": [
       "(<owslib.map.wms130.ContentMetadata at 0x7ffb8ee5d0d0>, '3DEPElevation:None')"
      ]
     },
     "execution_count": 7,
     "metadata": {},
     "output_type": "execute_result"
    }
   ],
   "source": [
    "# Pick a layer\n",
    "layer = wms[layerswidget.value]\n",
    "layer,layerswidget.value"
   ]
  },
  {
   "cell_type": "code",
   "execution_count": 8,
   "metadata": {},
   "outputs": [
    {
     "data": {
      "text/plain": [
       "'3DEPElevation'"
      ]
     },
     "execution_count": 8,
     "metadata": {},
     "output_type": "execute_result"
    }
   ],
   "source": [
    "wms.identification.title"
   ]
  },
  {
   "cell_type": "code",
   "execution_count": 9,
   "metadata": {},
   "outputs": [
    {
     "data": {
      "text/plain": [
       "True"
      ]
     },
     "execution_count": 9,
     "metadata": {},
     "output_type": "execute_result"
    }
   ],
   "source": [
    "# Are tiles transparent?\n",
    "transparent = not bool(layer.opaque)\n",
    "transparent"
   ]
  },
  {
   "cell_type": "code",
   "execution_count": 10,
   "metadata": {},
   "outputs": [],
   "source": [
    "from ipyleaflet import WMSLayer, Map, basemaps"
   ]
  },
  {
   "cell_type": "code",
   "execution_count": 11,
   "metadata": {},
   "outputs": [
    {
     "data": {
      "application/vnd.jupyter.widget-view+json": {
       "model_id": "600b376f3d404c29baa45587deba7e56",
       "version_major": 2,
       "version_minor": 0
      },
      "text/plain": [
       "Map(center=[39.095, -85.825], controls=(ZoomControl(options=['position', 'zoom_in_text', 'zoom_in_title', 'zoo…"
      ]
     },
     "metadata": {},
     "output_type": "display_data"
    }
   ],
   "source": [
    "l = WMSLayer(\n",
    "    url=wms.url,\n",
    "    format='image/png',\n",
    "    layers=layerswidget.value,\n",
    "    attribution='U.S. Department of the Interior | U.S. Geological Survey',\n",
    "    transparent=transparent\n",
    ")\n",
    "\n",
    "m = Map(basemap=basemaps.CartoDB.Positron, zoom=4, center=[39.095, -85.825])\n",
    "\n",
    "m.add_layer(l)\n",
    "\n",
    "m"
   ]
  }
 ],
 "metadata": {
  "kernelspec": {
   "display_name": "Python 3",
   "language": "python",
   "name": "python3"
  },
  "language_info": {
   "codemirror_mode": {
    "name": "ipython",
    "version": 3
   },
   "file_extension": ".py",
   "mimetype": "text/x-python",
   "name": "python",
   "nbconvert_exporter": "python",
   "pygments_lexer": "ipython3",
   "version": "3.7.4"
  },
  "toc": {
   "base_numbering": 1,
   "nav_menu": {},
   "number_sections": false,
   "sideBar": false,
   "skip_h1_title": false,
   "title_cell": "Table of Contents",
   "title_sidebar": "Contents",
   "toc_cell": false,
   "toc_position": {},
   "toc_section_display": false,
   "toc_window_display": false
  }
 },
 "nbformat": 4,
 "nbformat_minor": 4
}
